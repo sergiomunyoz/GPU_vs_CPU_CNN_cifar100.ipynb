{
  "nbformat": 4,
  "nbformat_minor": 0,
  "metadata": {
    "colab": {
      "name": "CNN_cifar100_tf2.ipynb",
      "provenance": []
    },
    "kernelspec": {
      "name": "python3",
      "display_name": "Python 3"
    },
    "accelerator": "GPU"
  },
  "cells": [
    {
      "cell_type": "markdown",
      "metadata": {
        "id": "J8gzHbwZmtO2"
      },
      "source": [
        "# Ejemplo de CNN 2D en la base de datos cifar100"
      ]
    },
    {
      "cell_type": "markdown",
      "source": [
        "## RESULTADOS SIMULACIÓN CON GPU(4 MIN)\n"
      ],
      "metadata": {
        "id": "r3STHw6S4bik"
      }
    },
    {
      "cell_type": "code",
      "metadata": {
        "id": "Ub8IUhmduJ7y",
        "outputId": "f8978943-357c-4e85-e217-d8931d54e657",
        "colab": {
          "base_uri": "https://localhost:8080/"
        }
      },
      "source": [
        "from __future__ import absolute_import, division, print_function, unicode_literals\n",
        "# Installa TensorFlow\n",
        "%tensorflow_version 2.x\n",
        "import tensorflow as tf\n",
        "print(tf.__version__)"
      ],
      "execution_count": 1,
      "outputs": [
        {
          "output_type": "stream",
          "name": "stdout",
          "text": [
            "Colab only includes TensorFlow 2.x; %tensorflow_version has no effect.\n",
            "2.9.2\n"
          ]
        }
      ]
    },
    {
      "cell_type": "code",
      "metadata": {
        "id": "LAd5BiAPnbqr",
        "outputId": "35752838-1c2a-4890-f399-5ba4309e0771",
        "colab": {
          "base_uri": "https://localhost:8080/"
        }
      },
      "source": [
        "# descargamos los datos cifar100 y los partimos en train y test\n",
        "(X_train, y_train), (X_test, y_test) = tf.keras.datasets.cifar100.load_data()"
      ],
      "execution_count": 2,
      "outputs": [
        {
          "output_type": "stream",
          "name": "stdout",
          "text": [
            "Downloading data from https://www.cs.toronto.edu/~kriz/cifar-100-python.tar.gz\n",
            "169001437/169001437 [==============================] - 14s 0us/step\n"
          ]
        }
      ]
    },
    {
      "cell_type": "code",
      "metadata": {
        "id": "CVrsjJ0ypgKS",
        "outputId": "85990989-777d-421c-a327-a8f8d6a98fd6",
        "colab": {
          "base_uri": "https://localhost:8080/"
        }
      },
      "source": [
        "# Tamaño de los datos (#datos,#lado,#alto,#canales)\n",
        "print(X_train.shape)"
      ],
      "execution_count": 3,
      "outputs": [
        {
          "output_type": "stream",
          "name": "stdout",
          "text": [
            "(50000, 32, 32, 3)\n"
          ]
        }
      ]
    },
    {
      "cell_type": "code",
      "metadata": {
        "id": "idhLs1p7ngXV",
        "outputId": "806539ea-24bb-432e-9463-4788d3a9de7f",
        "colab": {
          "base_uri": "https://localhost:8080/",
          "height": 283
        }
      },
      "source": [
        "import matplotlib.pyplot as plt\n",
        "\n",
        "# enseñamos la primera imagen del dataset\n",
        "plt.imshow(X_train[0],cmap=\"gray\")"
      ],
      "execution_count": 4,
      "outputs": [
        {
          "output_type": "execute_result",
          "data": {
            "text/plain": [
              "<matplotlib.image.AxesImage at 0x7fd0b904dd60>"
            ]
          },
          "metadata": {},
          "execution_count": 4
        },
        {
          "output_type": "display_data",
          "data": {
            "text/plain": [
              "<Figure size 432x288 with 1 Axes>"
            ],
            "image/png": "[encoded data removed]"
          },
          "metadata": {
            "needs_background": "light"
          }
        }
      ]
    },
    {
      "cell_type": "code",
      "metadata": {
        "id": "0sE_9bAEnsmw"
      },
      "source": [
        "# one-hot encoding en las 'y'\n",
        "from tensorflow.keras.utils import to_categorical\n",
        "\n",
        "y_train = to_categorical(y_train)\n",
        "y_test = to_categorical(y_test)\n"
      ],
      "execution_count": 5,
      "outputs": []
    },
    {
      "cell_type": "markdown",
      "metadata": {
        "id": "SF5CgUo8nt1w"
      },
      "source": [
        "Modelo"
      ]
    },
    {
      "cell_type": "code",
      "metadata": {
        "id": "uQHWqWS5nt6y"
      },
      "source": [
        "# Hacemos un modelo con varias capas\n",
        "\n",
        "from tensorflow.keras.models import Sequential\n",
        "from tensorflow.keras.layers import Dense, Conv2D, Flatten, BatchNormalization, Dropout\n",
        "from tensorflow.keras import regularizers\n",
        "\n",
        "#crear modelo\n",
        "model = Sequential()\n",
        "\n",
        "#Vamos añadiendo capas\n",
        "model.add(Conv2D(64, kernel_size=3, activation='relu', input_shape=(32,32,3),\n",
        "                activity_regularizer=regularizers.l1(0.2)))\n",
        "model.add(BatchNormalization())\n",
        "model.add(Dropout(0.3))\n",
        "model.add(Conv2D(32, kernel_size=3, activation='relu',\n",
        "                activity_regularizer=regularizers.l1(0.2)))\n",
        "model.add(BatchNormalization())\n",
        "model.add(Dropout(0.3))\n",
        "model.add(Conv2D(16, kernel_size=3, activation='relu',\n",
        "                activity_regularizer=regularizers.l1(0.2)))\n",
        "model.add(BatchNormalization())\n",
        "model.add(Dropout(0.3))\n",
        "model.add(Flatten())\n",
        "model.add(Dense(100, activation='softmax'))"
      ],
      "execution_count": 6,
      "outputs": []
    },
    {
      "cell_type": "code",
      "metadata": {
        "id": "Uqup8SlMnwU0"
      },
      "source": [
        "# Compilamos el modelo\n",
        "model.compile(optimizer='adam', loss='categorical_crossentropy', metrics=['accuracy'])"
      ],
      "execution_count": 7,
      "outputs": []
    },
    {
      "cell_type": "code",
      "metadata": {
        "id": "RU9EdH30DYv7",
        "outputId": "f54cbef1-baa0-4234-dc6d-574a7131a145",
        "colab": {
          "base_uri": "https://localhost:8080/"
        }
      },
      "source": [
        "# Este es el modelo\n",
        "model.summary()"
      ],
      "execution_count": 8,
      "outputs": [
        {
          "output_type": "stream",
          "name": "stdout",
          "text": [
            "Model: \"sequential\"\n",
            "_________________________________________________________________\n",
            " Layer (type)                Output Shape              Param #   \n",
            "=================================================================\n",
            " conv2d (Conv2D)             (None, 30, 30, 64)        1792      \n",
            "                                                                 \n",
            " batch_normalization (BatchN  (None, 30, 30, 64)       256       \n",
            " ormalization)                                                   \n",
            "                                                                 \n",
            " dropout (Dropout)           (None, 30, 30, 64)        0         \n",
            "                                                                 \n",
            " conv2d_1 (Conv2D)           (None, 28, 28, 32)        18464     \n",
            "                                                                 \n",
            " batch_normalization_1 (Batc  (None, 28, 28, 32)       128       \n",
            " hNormalization)                                                 \n",
            "                                                                 \n",
            " dropout_1 (Dropout)         (None, 28, 28, 32)        0         \n",
            "                                                                 \n",
            " conv2d_2 (Conv2D)           (None, 26, 26, 16)        4624      \n",
            "                                                                 \n",
            " batch_normalization_2 (Batc  (None, 26, 26, 16)       64        \n",
            " hNormalization)                                                 \n",
            "                                                                 \n",
            " dropout_2 (Dropout)         (None, 26, 26, 16)        0         \n",
            "                                                                 \n",
            " flatten (Flatten)           (None, 10816)             0         \n",
            "                                                                 \n",
            " dense (Dense)               (None, 100)               1081700   \n",
            "                                                                 \n",
            "=================================================================\n",
            "Total params: 1,107,028\n",
            "Trainable params: 1,106,804\n",
            "Non-trainable params: 224\n",
            "_________________________________________________________________\n"
          ]
        }
      ]
    },
    {
      "cell_type": "markdown",
      "source": [],
      "metadata": {
        "id": "YNEbSRR14UXd"
      }
    },
    {
      "cell_type": "markdown",
      "source": [],
      "metadata": {
        "id": "7yEy5gHC4Vrh"
      }
    },
    {
      "cell_type": "code",
      "metadata": {
        "id": "gKgh5QPeNsxR"
      },
      "source": [
        "# Vamos a usar el callback de earlystopping\n",
        "from keras.callbacks import EarlyStopping\n",
        "early_stopping = EarlyStopping(monitor='val_loss', patience=12, min_delta=0.01)"
      ],
      "execution_count": 9,
      "outputs": []
    },
    {
      "cell_type": "code",
      "metadata": {
        "id": "LjNKLB6Tn7gR",
        "outputId": "91ed6270-e1a3-49b7-84ee-1eb7a4494443",
        "colab": {
          "base_uri": "https://localhost:8080/"
        }
      },
      "source": [
        "# Entrenamos\n",
        "hist = model.fit(X_train, y_train, validation_split=0.3, epochs=50, callbacks=[early_stopping])"
      ],
      "execution_count": 10,
      "outputs": [
        {
          "output_type": "stream",
          "name": "stdout",
          "text": [
            "Epoch 1/50\n",
            "1094/1094 [==============================] - 20s 11ms/step - loss: 1585.3058 - accuracy: 0.0109 - val_loss: 12.9972 - val_accuracy: 0.0098\n",
            "Epoch 2/50\n",
            "1094/1094 [==============================] - 10s 9ms/step - loss: 8.9477 - accuracy: 0.0102 - val_loss: 7.1126 - val_accuracy: 0.0105\n",
            "Epoch 3/50\n",
            "1094/1094 [==============================] - 11s 10ms/step - loss: 6.0715 - accuracy: 0.0092 - val_loss: 5.6758 - val_accuracy: 0.0095\n",
            "Epoch 4/50\n",
            "1094/1094 [==============================] - 12s 11ms/step - loss: 5.2478 - accuracy: 0.0106 - val_loss: 5.1357 - val_accuracy: 0.0081\n",
            "Epoch 5/50\n",
            "1094/1094 [==============================] - 11s 10ms/step - loss: 4.9174 - accuracy: 0.0099 - val_loss: 4.8861 - val_accuracy: 0.0097\n",
            "Epoch 6/50\n",
            "1094/1094 [==============================] - 11s 10ms/step - loss: 4.7676 - accuracy: 0.0107 - val_loss: 4.7616 - val_accuracy: 0.0109\n",
            "Epoch 7/50\n",
            "1094/1094 [==============================] - 10s 9ms/step - loss: 4.6935 - accuracy: 0.0095 - val_loss: 4.7003 - val_accuracy: 0.0101\n",
            "Epoch 8/50\n",
            "1094/1094 [==============================] - 11s 10ms/step - loss: 4.6552 - accuracy: 0.0096 - val_loss: 4.6598 - val_accuracy: 0.0089\n",
            "Epoch 9/50\n",
            "1094/1094 [==============================] - 11s 10ms/step - loss: 4.6363 - accuracy: 0.0096 - val_loss: 4.6382 - val_accuracy: 0.0091\n",
            "Epoch 10/50\n",
            "1094/1094 [==============================] - 11s 10ms/step - loss: 4.6256 - accuracy: 0.0103 - val_loss: 4.6326 - val_accuracy: 0.0103\n",
            "Epoch 11/50\n",
            "1094/1094 [==============================] - 11s 10ms/step - loss: 4.6211 - accuracy: 0.0105 - val_loss: 4.6245 - val_accuracy: 0.0101\n",
            "Epoch 12/50\n",
            "1094/1094 [==============================] - 11s 10ms/step - loss: 4.6185 - accuracy: 0.0104 - val_loss: 4.6243 - val_accuracy: 0.0093\n",
            "Epoch 13/50\n",
            "1094/1094 [==============================] - 11s 10ms/step - loss: 4.6165 - accuracy: 0.0092 - val_loss: 4.6169 - val_accuracy: 0.0093\n",
            "Epoch 14/50\n",
            "1094/1094 [==============================] - 10s 9ms/step - loss: 4.6160 - accuracy: 0.0095 - val_loss: 4.6187 - val_accuracy: 0.0097\n",
            "Epoch 15/50\n",
            "1094/1094 [==============================] - 10s 9ms/step - loss: 4.6151 - accuracy: 0.0105 - val_loss: 4.6412 - val_accuracy: 0.0093\n",
            "Epoch 16/50\n",
            "1094/1094 [==============================] - 11s 10ms/step - loss: 4.6157 - accuracy: 0.0093 - val_loss: 4.6120 - val_accuracy: 0.0109\n",
            "Epoch 17/50\n",
            "1094/1094 [==============================] - 10s 9ms/step - loss: 4.6150 - accuracy: 0.0095 - val_loss: 4.6279 - val_accuracy: 0.0099\n",
            "Epoch 18/50\n",
            "1094/1094 [==============================] - 10s 9ms/step - loss: 4.6142 - accuracy: 0.0108 - val_loss: 4.6278 - val_accuracy: 0.0087\n",
            "Epoch 19/50\n",
            "1094/1094 [==============================] - 10s 9ms/step - loss: 4.6151 - accuracy: 0.0093 - val_loss: 4.6214 - val_accuracy: 0.0093\n",
            "Epoch 20/50\n",
            "1094/1094 [==============================] - 10s 9ms/step - loss: 4.6145 - accuracy: 0.0110 - val_loss: 4.6193 - val_accuracy: 0.0098\n",
            "Epoch 21/50\n",
            "1094/1094 [==============================] - 11s 10ms/step - loss: 4.6145 - accuracy: 0.0105 - val_loss: 4.6175 - val_accuracy: 0.0093\n",
            "Epoch 22/50\n",
            "1094/1094 [==============================] - 12s 11ms/step - loss: 4.6152 - accuracy: 0.0093 - val_loss: 4.6118 - val_accuracy: 0.0094\n",
            "Epoch 23/50\n",
            "1094/1094 [==============================] - 11s 10ms/step - loss: 4.6149 - accuracy: 0.0090 - val_loss: 4.6158 - val_accuracy: 0.0093\n",
            "Epoch 24/50\n",
            "1094/1094 [==============================] - 10s 9ms/step - loss: 4.6145 - accuracy: 0.0103 - val_loss: 4.6149 - val_accuracy: 0.0095\n",
            "Epoch 25/50\n",
            "1094/1094 [==============================] - 11s 10ms/step - loss: 4.6142 - accuracy: 0.0105 - val_loss: 4.6194 - val_accuracy: 0.0107\n",
            "Epoch 26/50\n",
            "1094/1094 [==============================] - 12s 11ms/step - loss: 4.6148 - accuracy: 0.0094 - val_loss: 4.6157 - val_accuracy: 0.0088\n",
            "Epoch 27/50\n",
            "1094/1094 [==============================] - 10s 9ms/step - loss: 4.6143 - accuracy: 0.0096 - val_loss: 4.6192 - val_accuracy: 0.0095\n",
            "Epoch 28/50\n",
            "1094/1094 [==============================] - 10s 9ms/step - loss: 4.6146 - accuracy: 0.0108 - val_loss: 4.6188 - val_accuracy: 0.0089\n"
          ]
        }
      ]
    },
    {
      "cell_type": "code",
      "metadata": {
        "id": "194RRmusoEC7",
        "outputId": "59b162f6-06d5-49f8-8403-f6cdfa9565ae",
        "colab": {
          "base_uri": "https://localhost:8080/"
        }
      },
      "source": [
        "# Evaluamos el modelo\n",
        "score = model.evaluate(X_test,y_test)\n",
        "score"
      ],
      "execution_count": 11,
      "outputs": [
        {
          "output_type": "stream",
          "name": "stdout",
          "text": [
            "313/313 [==============================] - 2s 5ms/step - loss: 4.6149 - accuracy: 0.0100\n"
          ]
        },
        {
          "output_type": "execute_result",
          "data": {
            "text/plain": [
              "[4.614913463592529, 0.009999999776482582]"
            ]
          },
          "metadata": {},
          "execution_count": 11
        }
      ]
    },
    {
      "cell_type": "code",
      "metadata": {
        "id": "9LiatwSPoPT7",
        "outputId": "22231beb-160b-4446-f9a2-afcc9e9d997e",
        "colab": {
          "base_uri": "https://localhost:8080/",
          "height": 282
        }
      },
      "source": [
        "# Ploteamos la evolucion del loss durante el entrenamiento\n",
        "import matplotlib.pyplot as plt\n",
        "\n",
        "%matplotlib inline\n",
        "\n",
        "plt.figure\n",
        "plt.plot(hist.history['loss'],label=\"loss\")\n",
        "plt.plot(hist.history['val_loss'],label=\"val_loss\")\n",
        "plt.legend()\n"
      ],
      "execution_count": 12,
      "outputs": [
        {
          "output_type": "execute_result",
          "data": {
            "text/plain": [
              "<matplotlib.legend.Legend at 0x7fd05441dbe0>"
            ]
          },
          "metadata": {},
          "execution_count": 12
        },
        {
          "output_type": "display_data",
          "data": {
            "text/plain": [
              "<Figure size 432x288 with 1 Axes>"
            ],
            "image/png": "[encoded data removed]"
          },
          "metadata": {
            "needs_background": "light"
          }
        }
      ]
    },
    {
      "cell_type": "code",
      "metadata": {
        "id": "u2arW_sOqI3c",
        "outputId": "5d8f642e-083a-44e4-b7d2-80e421c27a2e",
        "colab": {
          "base_uri": "https://localhost:8080/",
          "height": 282
        }
      },
      "source": [
        "# Ploteamos la evolucion del accuracy durante el entrenamiento\n",
        "import matplotlib.pyplot as plt\n",
        "\n",
        "%matplotlib inline\n",
        "\n",
        "plt.figure\n",
        "plt.plot(hist.history['accuracy'],label=\"accuracy\")\n",
        "plt.plot(hist.history['val_accuracy'],label=\"val_accuracy\")\n",
        "plt.legend()\n"
      ],
      "execution_count": 13,
      "outputs": [
        {
          "output_type": "execute_result",
          "data": {
            "text/plain": [
              "<matplotlib.legend.Legend at 0x7fd0543e0160>"
            ]
          },
          "metadata": {},
          "execution_count": 13
        },
        {
          "output_type": "display_data",
          "data": {
            "text/plain": [
              "<Figure size 432x288 with 1 Axes>"
            ],
            "image/png": "[encoded data removed]"
          },
          "metadata": {
            "needs_background": "light"
          }
        }
      ]
    },
    {
      "cell_type": "code",
      "metadata": {
        "id": "7mN0MrhorXQu",
        "outputId": "a9d8df74-f0c3-4094-f1d9-318f68b51c57",
        "colab": {
          "base_uri": "https://localhost:8080/"
        }
      },
      "source": [
        "# Predecimos sobre test\n",
        "preds_test = model.predict(X_test)\n",
        "preds_test.shape"
      ],
      "execution_count": 14,
      "outputs": [
        {
          "output_type": "stream",
          "name": "stdout",
          "text": [
            "313/313 [==============================] - 1s 3ms/step\n"
          ]
        },
        {
          "output_type": "execute_result",
          "data": {
            "text/plain": [
              "(10000, 100)"
            ]
          },
          "metadata": {},
          "execution_count": 14
        }
      ]
    },
    {
      "cell_type": "code",
      "metadata": {
        "id": "WizGQiTup87z",
        "outputId": "3a19e819-8821-4fd6-c19d-029bab173ac2",
        "colab": {
          "base_uri": "https://localhost:8080/",
          "height": 283
        }
      },
      "source": [
        "import numpy as np\n",
        "# Elegimos una imagen de test\n",
        "idx_mostrar = 2990\n",
        "# Mostramos la imagen\n",
        "plt.imshow(X_test[idx_mostrar,:,:,:])\n",
        "# Mostramos las probabilidades que da el modelo a cada clase\n",
        "print(np.argmax(preds_test[idx_mostrar]))"
      ],
      "execution_count": 15,
      "outputs": [
        {
          "output_type": "stream",
          "name": "stdout",
          "text": [
            "31\n"
          ]
        },
        {
          "output_type": "display_data",
          "data": {
            "text/plain": [
              "<Figure size 432x288 with 1 Axes>"
            ],
            "image/png": "[encoded data removed]"
          },
          "metadata": {
            "needs_background": "light"
          }
        }
      ]
    },
    {
      "cell_type": "code",
      "metadata": {
        "id": "oF7Raj64qHvq"
      },
      "source": [],
      "execution_count": 15,
      "outputs": []
    }
  ]
}